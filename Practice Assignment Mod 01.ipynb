{
 "cells": [
  {
   "cell_type": "markdown",
   "id": "675985f5",
   "metadata": {},
   "source": [
    "1. Accept the user's first and last name and print them in reverse order with a space between them"
   ]
  },
  {
   "cell_type": "code",
   "execution_count": 1,
   "id": "3f63c626",
   "metadata": {},
   "outputs": [
    {
     "name": "stdout",
     "output_type": "stream",
     "text": [
      "Enter your first name:Juan\n"
     ]
    }
   ],
   "source": [
    "# It asks the user to input their first name, and then user types it. \n",
    "## You set the variable firstName with your actual name.\n",
    "firstName = input(\"Enter your first name:\")"
   ]
  },
  {
   "cell_type": "code",
   "execution_count": 2,
   "id": "199a1876",
   "metadata": {},
   "outputs": [
    {
     "name": "stdout",
     "output_type": "stream",
     "text": [
      "Enter your last name:Lima\n"
     ]
    }
   ],
   "source": [
    "# It asks the user to input their last name, and then the user types it. \n",
    "## You set the variable lastName with your last name.\n",
    "lastName = input(\"Enter your last name:\")"
   ]
  },
  {
   "cell_type": "code",
   "execution_count": 3,
   "id": "b2e2fae8",
   "metadata": {},
   "outputs": [
    {
     "name": "stdout",
     "output_type": "stream",
     "text": [
      "Reversed Name: LimaJuan\n"
     ]
    }
   ],
   "source": [
    "# The first line of code combines the first name and last name with a space in between.\n",
    "## Then using the print function it prints the combined names in reversed order. \n",
    "fullName = lastName + \"\" + firstName\n",
    "print(\"Reversed Name:\", fullName)"
   ]
  },
  {
   "cell_type": "markdown",
   "id": "befd9522",
   "metadata": {},
   "source": [
    "2. Accept an integer No input from the user and compute the value of n+nn+nnn. For example if n=4 then n + nn + nnn = 4 + 44 + 444 = 492"
   ]
  },
  {
   "cell_type": "code",
   "execution_count": 18,
   "id": "5c8c7eff",
   "metadata": {},
   "outputs": [
    {
     "name": "stdout",
     "output_type": "stream",
     "text": [
      "Enter an integer (n): 4\n"
     ]
    }
   ],
   "source": [
    "n = int(input(\"Enter an integer (n): \"))"
   ]
  },
  {
   "cell_type": "code",
   "execution_count": 19,
   "id": "b4c5e0f7",
   "metadata": {},
   "outputs": [],
   "source": [
    "n2 = n * 11"
   ]
  },
  {
   "cell_type": "code",
   "execution_count": 20,
   "id": "4012c4d5",
   "metadata": {},
   "outputs": [],
   "source": [
    "n3 = n * 111"
   ]
  },
  {
   "cell_type": "code",
   "execution_count": 21,
   "id": "cb98943f",
   "metadata": {},
   "outputs": [],
   "source": [
    "result = n + n2 + n3"
   ]
  },
  {
   "cell_type": "code",
   "execution_count": 22,
   "id": "0e69c7e6",
   "metadata": {},
   "outputs": [
    {
     "name": "stdout",
     "output_type": "stream",
     "text": [
      "n + n2 + n3 = 492\n"
     ]
    }
   ],
   "source": [
    "print(\"n + n2 + n3 =\", result)"
   ]
  },
  {
   "cell_type": "markdown",
   "id": "d3ec0da2",
   "metadata": {},
   "source": [
    "3. Ask the user \"What country are you from?\" then print the following statement: \"I have heard that [input] is a beautiful country!\""
   ]
  },
  {
   "cell_type": "code",
   "execution_count": 1,
   "id": "b7345f61",
   "metadata": {},
   "outputs": [
    {
     "name": "stdout",
     "output_type": "stream",
     "text": [
      "What country are you from?Mexico\n"
     ]
    }
   ],
   "source": [
    "originCountry = input(\"What country are you from?\")"
   ]
  },
  {
   "cell_type": "code",
   "execution_count": 2,
   "id": "b879436d",
   "metadata": {},
   "outputs": [
    {
     "name": "stdout",
     "output_type": "stream",
     "text": [
      "I have heard that Mexico is a beautiful country!\n"
     ]
    }
   ],
   "source": [
    "print(\"I have heard that\", originCountry, \"is a beautiful country!\")"
   ]
  },
  {
   "cell_type": "markdown",
   "id": "e3070316",
   "metadata": {},
   "source": [
    "4. What is the output of the following Python code\n",
    "\n",
    "x = 10\n",
    "y = 50\n",
    "if (x ** 2 > 100 and y < 100):\n",
    "    print(x, y)\n",
    "The output of the code will not print anything. Simply because the conditions are not satisfied. \n",
    "x ** 2 > 100 ------- 10 * 2 = 100 Therefore, 100 > 100 is not true.\n",
    "y < 100 ------ 50 < 100 This condition checks out since 50 is less than 100.\n",
    "However, since the first condition is not met, the 'if' block is not executed."
   ]
  },
  {
   "cell_type": "markdown",
   "id": "ed90ad2d",
   "metadata": {},
   "source": [
    "5. What is the output of the following addition (+) operator, and why does this code chunk execute this way?\n",
    "\n",
    "a = [10, 20] #This creates a list 10, 20 and it assigns it to the variable 'a'\n",
    "b = a        #This assings 'b' reference the same list as 'a'. So at this point both variables have the same list of 10, 20\n",
    "b += [30, 40] #In other words, this can also be read as b = b + [30,40]. You are modifying the list by adding the second set of numbers to the original [10,20]. It adds it to both 'a' and 'b'\n",
    "print(a) #This would print out [10,20,30,40]\n",
    "print(b) #This would also print out [10,20,30,40]"
   ]
  },
  {
   "cell_type": "markdown",
   "id": "2f01197a",
   "metadata": {},
   "source": [
    "6. What is the output of the following code and what arithmetic operators is being used here? print(2%6)\n",
    "\n",
    "The code uses the modulo operator, which calculates the remainder (2 is divided by 6). The output will be 2, because when we you divide 2 by 6, you get a quotient of 0 with a remainder of 2."
   ]
  },
  {
   "cell_type": "markdown",
   "id": "2057f36b",
   "metadata": {},
   "source": [
    "7. What is the output of the following code and what arithmetic operators are used here? print(2 * 3 ** 3 * 4)\n",
    "\n",
    "This set of code involves several arithmetic operators, including multiplication (*) and exponentiation (**).\n",
    "\n",
    "3**3 calculate 3 to the power of 3, which equals to 27\n",
    "\n",
    "2*27 multiplies the result from step 1 by 2, equals to 54\n",
    "\n",
    "Finally, you multiply 4 by 54, which would give you 216. "
   ]
  },
  {
   "cell_type": "markdown",
   "id": "e2de61cd",
   "metadata": {},
   "source": [
    "8. What is a text editor?\n",
    "\n",
    "In simple terms, text editor is a program that allows you to create, edit, and manage plain text files. \n",
    "\n",
    "9. What is python? \n",
    "\n",
    "Python is programming language that is considered a great starting point for someone that is trying to get into coding because of its simplicity and readability.\n",
    "\n",
    "10. What is jupyter notebook, what type of python environment is it, and what alternatives are there to jupyter notebook?\n",
    "\n",
    "Jupyter Notebook is an interactive computing environment that allows you to create and share documents containing live code, equations, etc. It is an open-source web application. It is designed to work with various programming languages, however, it is particular"
   ]
  },
  {
   "cell_type": "code",
   "execution_count": null,
   "id": "7020952c",
   "metadata": {},
   "outputs": [],
   "source": []
  }
 ],
 "metadata": {
  "kernelspec": {
   "display_name": "Python 3 (ipykernel)",
   "language": "python",
   "name": "python3"
  },
  "language_info": {
   "codemirror_mode": {
    "name": "ipython",
    "version": 3
   },
   "file_extension": ".py",
   "mimetype": "text/x-python",
   "name": "python",
   "nbconvert_exporter": "python",
   "pygments_lexer": "ipython3",
   "version": "3.11.4"
  }
 },
 "nbformat": 4,
 "nbformat_minor": 5
}
